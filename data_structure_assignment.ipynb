{
 "cells": [
  {
   "cell_type": "markdown",
   "metadata": {},
   "source": [
    "# Data Structure Assignment"
   ]
  },
  {
   "cell_type": "markdown",
   "metadata": {},
   "source": [
    "### Q1. How do you comment code in Python? What are the different types of comments?\n"
   ]
  },
  {
   "cell_type": "markdown",
   "metadata": {},
   "source": [
    "- Comments in Python are used to explain what the code is doing. They are ignored by the Python interpreter, so they do not affect the execution of the code.\n",
    "- There are two types of comments in Python: \n",
    "    - single-line comments: It starts with a hash symbol (#) and continue to the end of the line.\n",
    "    - multi-line comments.: It can be created by using triple quotes (''' or \"\"\"). The triple quotes can be used to enclose any number of lines of text.\n",
    "- For example: \n",
    "\n",
    "    - #Single line comment\n",
    "\n",
    "    - ''' \n",
    "        multi-line comment\n",
    "      ''' "
   ]
  },
  {
   "cell_type": "markdown",
   "metadata": {},
   "source": [
    "### Q2. What are variables in Python? How do you declare and assign values to variables?\n"
   ]
  },
  {
   "cell_type": "markdown",
   "metadata": {},
   "source": [
    "- In Python, a variable is a named location thats where We store data. Variables are used to store data so that it can be used later in the program.\n",
    "- variable = value"
   ]
  },
  {
   "cell_type": "code",
   "execution_count": 1,
   "metadata": {},
   "outputs": [
    {
     "name": "stdout",
     "output_type": "stream",
     "text": [
      "50\n"
     ]
    }
   ],
   "source": [
    "# For example, the following code declares a variable named x and assigns it the value 10:\n",
    "x = 50\n",
    "print(x)"
   ]
  },
  {
   "cell_type": "markdown",
   "metadata": {},
   "source": [
    "### Q3. How do you convert one data type to another in Python?\n"
   ]
  },
  {
   "cell_type": "code",
   "execution_count": 2,
   "metadata": {},
   "outputs": [],
   "source": [
    "# Convert a string to an integer\n",
    "x = int(\"10\")\n",
    "\n",
    "# Convert an integer to a float\n",
    "y = float(10)\n",
    "\n",
    "# Convert a float to a string\n",
    "z = str(10)\n",
    "\n",
    "# Convert a string to a boolean value\n",
    "a = bool(\"True\")\n",
    "\n",
    "# Convert a list to a string\n",
    "b = str([1, 2, 3])\n",
    "\n",
    "# Convert a string to a list\n",
    "c = list(\"1, 2, 3\")\n",
    "\n",
    "# Convert a string to a set\n",
    "d = set(\"abc\")\n",
    "\n",
    "# Convert a list to a dictionary\n",
    "e = dict([(1, \"a\"), (2, \"b\"), (3, \"c\")])\n",
    "\n"
   ]
  },
  {
   "cell_type": "markdown",
   "metadata": {},
   "source": [
    "### Q4. How do you write and execute a Python script from the command line?\n"
   ]
  },
  {
   "cell_type": "markdown",
   "metadata": {},
   "source": [
    "To write and execute a Python script from the command line, these are the steps which needs to be followed:\n",
    "\n",
    "- We will open a text editor and create a new file. Save it with a .py extension, such as filename.py.\n",
    "\n",
    "- We will write the Python code in the file using the text editor. For example, we can write a simple \"Hello, World!\" program:\n",
    "    - print(\"Hello World\")\n",
    "- We will save the file after writing the code.\n",
    "- Then, we will open the command line or terminal in our computer.\n",
    "- After that, we will navigate to the directory where we have saved our Python script using the cd command. For example, if the script is saved in the Documents folder, we can navigate to it by running:\n",
    "    - cd Documents\n",
    "- Once we are in the correct directory, we can execute the Python script by typing python followed by the name of the script file. For example:\n",
    "    - python filename.py"
   ]
  },
  {
   "cell_type": "markdown",
   "metadata": {},
   "source": [
    "# Q5. Given a list my_list = [1, 2, 3, 4, 5], write the code to slice the list and obtain the sub-list [2, 3].\n"
   ]
  },
  {
   "cell_type": "code",
   "execution_count": 5,
   "metadata": {},
   "outputs": [
    {
     "name": "stdout",
     "output_type": "stream",
     "text": [
      "my-list: [1, 2, 3, 4, 5]\n",
      "sub-list: [2, 3]\n"
     ]
    }
   ],
   "source": [
    "my_list = [1,2,3,4,5]\n",
    "print(\"my-list:\",my_list)\n",
    "\n",
    "sub_list = my_list[1:3]\n",
    "print(\"sub-list:\",sub_list)"
   ]
  },
  {
   "cell_type": "markdown",
   "metadata": {},
   "source": [
    "### Q6. What is a complex number in mathematics, and how is it represented in Python?\n"
   ]
  },
  {
   "cell_type": "markdown",
   "metadata": {},
   "source": [
    "- A complex number is a number that comprises both a real part and an imaginary part. It is expressed in the form \"a + bi\", where \"a\" represents the real part and \"b\" represents the imaginary part. The imaginary part is multiplied by the imaginary unit \"i\" (or \"j\" in some contexts) to denote that it is imaginary.\n"
   ]
  },
  {
   "cell_type": "code",
   "execution_count": 6,
   "metadata": {},
   "outputs": [
    {
     "name": "stdout",
     "output_type": "stream",
     "text": [
      "(3+2j)\n"
     ]
    }
   ],
   "source": [
    "# Creating a complex number\n",
    "c = 3 + 2j\n",
    "print(c)"
   ]
  },
  {
   "cell_type": "markdown",
   "metadata": {},
   "source": [
    "# Q7. What is the correct way to declare a variable named age and assign the value 25 to it?\n"
   ]
  },
  {
   "cell_type": "markdown",
   "metadata": {},
   "source": [
    "- In python, we can declare a variable named 'age' and assign the value '25' to it using the following syntax:"
   ]
  },
  {
   "cell_type": "code",
   "execution_count": null,
   "metadata": {},
   "outputs": [],
   "source": [
    "age = 25"
   ]
  },
  {
   "cell_type": "markdown",
   "metadata": {},
   "source": [
    "#### Q8. Declare a variable named price and assign the value 9.99 to it. What data type does this variable belong to?\n"
   ]
  },
  {
   "cell_type": "code",
   "execution_count": 7,
   "metadata": {},
   "outputs": [
    {
     "data": {
      "text/plain": [
       "float"
      ]
     },
     "execution_count": 7,
     "metadata": {},
     "output_type": "execute_result"
    }
   ],
   "source": [
    "# declare variable name \n",
    "price = 9.99\n",
    "\n",
    "# check data type\n",
    "type(price)"
   ]
  },
  {
   "cell_type": "markdown",
   "metadata": {},
   "source": [
    "### Q9. Create a variable named name and assign your full name to it as a string. How would you print the value of this variable?\n"
   ]
  },
  {
   "cell_type": "code",
   "execution_count": 8,
   "metadata": {},
   "outputs": [
    {
     "name": "stdout",
     "output_type": "stream",
     "text": [
      "Dinesh Kokare\n"
     ]
    }
   ],
   "source": [
    "# creating a variable named name and assigning my name to it as a string\n",
    "name = \"Dinesh Kokare\"\n",
    "\n",
    "# printing the value of name\n",
    "print(name)"
   ]
  },
  {
   "cell_type": "markdown",
   "metadata": {},
   "source": [
    "### Q10. Given the string \"Hello, World!\", extract the substring \"World\".\n"
   ]
  },
  {
   "cell_type": "code",
   "execution_count": 15,
   "metadata": {},
   "outputs": [
    {
     "data": {
      "text/plain": [
       "'World'"
      ]
     },
     "execution_count": 15,
     "metadata": {},
     "output_type": "execute_result"
    }
   ],
   "source": [
    "# assign the value\n",
    "a = \"Hello, World!\"\n",
    "\n",
    "# exctract the substring\n",
    "a[7:12]"
   ]
  },
  {
   "cell_type": "markdown",
   "metadata": {},
   "source": [
    "### Q11. Create a variable named \"is_student\" and assign it a boolean value indicating whether you are currently a student or not."
   ]
  },
  {
   "cell_type": "code",
   "execution_count": 16,
   "metadata": {},
   "outputs": [
    {
     "name": "stdout",
     "output_type": "stream",
     "text": [
      "True\n"
     ]
    }
   ],
   "source": [
    "is_student = True\n",
    "print(is_student)"
   ]
  }
 ],
 "metadata": {
  "kernelspec": {
   "display_name": "Python 3 (ipykernel)",
   "language": "python",
   "name": "python3"
  },
  "language_info": {
   "codemirror_mode": {
    "name": "ipython",
    "version": 3
   },
   "file_extension": ".py",
   "mimetype": "text/x-python",
   "name": "python",
   "nbconvert_exporter": "python",
   "pygments_lexer": "ipython3",
   "version": "3.9.13"
  }
 },
 "nbformat": 4,
 "nbformat_minor": 2
}
